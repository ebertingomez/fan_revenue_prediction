{
 "cells": [
  {
   "cell_type": "code",
   "execution_count": 77,
   "metadata": {},
   "outputs": [],
   "source": [
    "%matplotlib inline\n",
    "import imp\n",
    "import pandas as pd\n",
    "import numpy as np\n",
    "from matplotlib import pyplot as plt\n",
    "import seaborn"
   ]
  },
  {
   "cell_type": "code",
   "execution_count": 78,
   "metadata": {},
   "outputs": [],
   "source": [
    "from problem import get_train_data\n",
    "\n",
    "X_df, y_array = get_train_data()"
   ]
  },
  {
   "cell_type": "code",
   "execution_count": 79,
   "metadata": {},
   "outputs": [
    {
     "data": {
      "text/html": [
       "<div>\n",
       "<style scoped>\n",
       "    .dataframe tbody tr th:only-of-type {\n",
       "        vertical-align: middle;\n",
       "    }\n",
       "\n",
       "    .dataframe tbody tr th {\n",
       "        vertical-align: top;\n",
       "    }\n",
       "\n",
       "    .dataframe thead th {\n",
       "        text-align: right;\n",
       "    }\n",
       "</style>\n",
       "<table border=\"1\" class=\"dataframe\">\n",
       "  <thead>\n",
       "    <tr style=\"text-align: right;\">\n",
       "      <th></th>\n",
       "      <th>Legal_ID</th>\n",
       "      <th>Name</th>\n",
       "      <th>Activity_code (APE)</th>\n",
       "      <th>Address</th>\n",
       "      <th>Zipcode</th>\n",
       "      <th>City</th>\n",
       "      <th>Headcount</th>\n",
       "      <th>Fiscal_year_end_date</th>\n",
       "      <th>Fiscal_year_duration_in_months</th>\n",
       "      <th>Year</th>\n",
       "    </tr>\n",
       "  </thead>\n",
       "  <tbody>\n",
       "    <tr>\n",
       "      <td>0</td>\n",
       "      <td>582296</td>\n",
       "      <td>COMICOB</td>\n",
       "      <td>NaN</td>\n",
       "      <td>BOULOUPARIS BP 15 BOULOUPARIS</td>\n",
       "      <td>NaN</td>\n",
       "      <td>NaN</td>\n",
       "      <td>NaN</td>\n",
       "      <td>2016-12-31</td>\n",
       "      <td>12.0</td>\n",
       "      <td>2016.0</td>\n",
       "    </tr>\n",
       "    <tr>\n",
       "      <td>1</td>\n",
       "      <td>582981</td>\n",
       "      <td>CIANFARANI JEAN-MICHEL</td>\n",
       "      <td>NaN</td>\n",
       "      <td>33 AVENUE H. LAFLEUR - VICTOIRE - B.P. 4031 NO...</td>\n",
       "      <td>NaN</td>\n",
       "      <td>NaN</td>\n",
       "      <td>NaN</td>\n",
       "      <td>2016-12-31</td>\n",
       "      <td>12.0</td>\n",
       "      <td>2016.0</td>\n",
       "    </tr>\n",
       "    <tr>\n",
       "      <td>2</td>\n",
       "      <td>588541</td>\n",
       "      <td>OK POULET 5EME SARL</td>\n",
       "      <td>NaN</td>\n",
       "      <td>23 RUE PAUL BERT</td>\n",
       "      <td>98800.0</td>\n",
       "      <td>NOUMEA</td>\n",
       "      <td>1.0</td>\n",
       "      <td>2016-12-31</td>\n",
       "      <td>12.0</td>\n",
       "      <td>2016.0</td>\n",
       "    </tr>\n",
       "    <tr>\n",
       "      <td>3</td>\n",
       "      <td>589275</td>\n",
       "      <td>INSTITUT DE LA QUALITE S.A.R.L.</td>\n",
       "      <td>NaN</td>\n",
       "      <td>224 RUE J. IEKAWE - COMPLEXE DE LA BELLE-VIE -...</td>\n",
       "      <td>98800.0</td>\n",
       "      <td>NOUMEA</td>\n",
       "      <td>NaN</td>\n",
       "      <td>2016-12-31</td>\n",
       "      <td>12.0</td>\n",
       "      <td>2016.0</td>\n",
       "    </tr>\n",
       "    <tr>\n",
       "      <td>4</td>\n",
       "      <td>592972</td>\n",
       "      <td>EXPERT TRADE</td>\n",
       "      <td>NaN</td>\n",
       "      <td>2 RUE DE L ASTROLABE OUEMO MAGENTA</td>\n",
       "      <td>98800.0</td>\n",
       "      <td>NOUMEA</td>\n",
       "      <td>NaN</td>\n",
       "      <td>2016-12-31</td>\n",
       "      <td>12.0</td>\n",
       "      <td>2016.0</td>\n",
       "    </tr>\n",
       "  </tbody>\n",
       "</table>\n",
       "</div>"
      ],
      "text/plain": [
       "   Legal_ID                             Name Activity_code (APE)  \\\n",
       "0    582296                          COMICOB                 NaN   \n",
       "1    582981           CIANFARANI JEAN-MICHEL                 NaN   \n",
       "2    588541              OK POULET 5EME SARL                 NaN   \n",
       "3    589275  INSTITUT DE LA QUALITE S.A.R.L.                 NaN   \n",
       "4    592972                     EXPERT TRADE                 NaN   \n",
       "\n",
       "                                             Address  Zipcode    City  \\\n",
       "0                      BOULOUPARIS BP 15 BOULOUPARIS      NaN     NaN   \n",
       "1  33 AVENUE H. LAFLEUR - VICTOIRE - B.P. 4031 NO...      NaN     NaN   \n",
       "2                                   23 RUE PAUL BERT  98800.0  NOUMEA   \n",
       "3  224 RUE J. IEKAWE - COMPLEXE DE LA BELLE-VIE -...  98800.0  NOUMEA   \n",
       "4                 2 RUE DE L ASTROLABE OUEMO MAGENTA  98800.0  NOUMEA   \n",
       "\n",
       "   Headcount Fiscal_year_end_date  Fiscal_year_duration_in_months    Year  \n",
       "0        NaN           2016-12-31                            12.0  2016.0  \n",
       "1        NaN           2016-12-31                            12.0  2016.0  \n",
       "2        1.0           2016-12-31                            12.0  2016.0  \n",
       "3        NaN           2016-12-31                            12.0  2016.0  \n",
       "4        NaN           2016-12-31                            12.0  2016.0  "
      ]
     },
     "execution_count": 79,
     "metadata": {},
     "output_type": "execute_result"
    }
   ],
   "source": [
    "X_df.head(5)"
   ]
  },
  {
   "cell_type": "code",
   "execution_count": 80,
   "metadata": {},
   "outputs": [
    {
     "data": {
      "text/plain": [
       "(1495948, 10)"
      ]
     },
     "execution_count": 80,
     "metadata": {},
     "output_type": "execute_result"
    }
   ],
   "source": [
    "X_df.shape"
   ]
  },
  {
   "cell_type": "markdown",
   "metadata": {},
   "source": [
    "## Award notices"
   ]
  },
  {
   "cell_type": "code",
   "execution_count": 81,
   "metadata": {},
   "outputs": [
    {
     "name": "stderr",
     "output_type": "stream",
     "text": [
      "/Users/QQINO/anaconda3/lib/python3.7/site-packages/IPython/core/interactiveshell.py:3058: DtypeWarning: Columns (4,12) have mixed types. Specify dtype option on import or set low_memory=False.\n",
      "  interactivity=interactivity, compiler=compiler, result=result)\n"
     ]
    },
    {
     "data": {
      "text/html": [
       "<div>\n",
       "<style scoped>\n",
       "    .dataframe tbody tr th:only-of-type {\n",
       "        vertical-align: middle;\n",
       "    }\n",
       "\n",
       "    .dataframe tbody tr th {\n",
       "        vertical-align: top;\n",
       "    }\n",
       "\n",
       "    .dataframe thead th {\n",
       "        text-align: right;\n",
       "    }\n",
       "</style>\n",
       "<table border=\"1\" class=\"dataframe\">\n",
       "  <thead>\n",
       "    <tr style=\"text-align: right;\">\n",
       "      <th></th>\n",
       "      <th>CallID</th>\n",
       "      <th>Publication_date</th>\n",
       "      <th>End_of_call_date</th>\n",
       "      <th>Departments_of_publication</th>\n",
       "      <th>Departments_of_provision</th>\n",
       "      <th>Call_summary</th>\n",
       "      <th>Call_title</th>\n",
       "      <th>Complete_call_description</th>\n",
       "      <th>Total_amount</th>\n",
       "      <th>CPV_classes</th>\n",
       "      <th>...</th>\n",
       "      <th>ID</th>\n",
       "      <th>awarded</th>\n",
       "      <th>description</th>\n",
       "      <th>incumbent_name</th>\n",
       "      <th>incumbent_address</th>\n",
       "      <th>incumbent_zipcode</th>\n",
       "      <th>incumbent_city</th>\n",
       "      <th>incumbent_country</th>\n",
       "      <th>number_of_received_bids</th>\n",
       "      <th>amount</th>\n",
       "    </tr>\n",
       "  </thead>\n",
       "  <tbody>\n",
       "    <tr>\n",
       "      <td>0</td>\n",
       "      <td>16-119770</td>\n",
       "      <td>2016-08-11 00:00:00</td>\n",
       "      <td>2016-09-20</td>\n",
       "      <td>13</td>\n",
       "      <td>NaN</td>\n",
       "      <td>mission de maitrise d'oeuvre relative aux trav...</td>\n",
       "      <td>MISSION DE MAITRISE D'OEUVRE RELATIVE AUX TRAV...</td>\n",
       "      <td>MISSION DE MAITRISE D'OEUVRE RELATIVE AUX TRAV...</td>\n",
       "      <td>NaN</td>\n",
       "      <td>71000000</td>\n",
       "      <td>...</td>\n",
       "      <td>NaN</td>\n",
       "      <td>Yes</td>\n",
       "      <td>NaN</td>\n",
       "      <td>AI PROJECT</td>\n",
       "      <td>11, avenue de la Capelette</td>\n",
       "      <td>13010</td>\n",
       "      <td>Marseille</td>\n",
       "      <td>FR</td>\n",
       "      <td>13.0</td>\n",
       "      <td>83200.0</td>\n",
       "    </tr>\n",
       "    <tr>\n",
       "      <td>1</td>\n",
       "      <td>15-46335</td>\n",
       "      <td>2015-03-27 00:00:00</td>\n",
       "      <td>2015-04-25</td>\n",
       "      <td>85</td>\n",
       "      <td>85</td>\n",
       "      <td>fourniture de réactifs immunosérologiques pour...</td>\n",
       "      <td>NaN</td>\n",
       "      <td>Fourniture de réactifs immunosérologiques pour...</td>\n",
       "      <td>NaN</td>\n",
       "      <td>33696200 33696500</td>\n",
       "      <td>...</td>\n",
       "      <td>1</td>\n",
       "      <td>Yes</td>\n",
       "      <td>Kit pour recherche d'anticorps anti-IBR sur sé...</td>\n",
       "      <td>ID-VET</td>\n",
       "      <td>310 rue Louis Pasteur</td>\n",
       "      <td>34790</td>\n",
       "      <td>Grabels</td>\n",
       "      <td>FR</td>\n",
       "      <td>2.0</td>\n",
       "      <td>NaN</td>\n",
       "    </tr>\n",
       "    <tr>\n",
       "      <td>2</td>\n",
       "      <td>15-46335</td>\n",
       "      <td>2015-03-27 00:00:00</td>\n",
       "      <td>2015-04-25</td>\n",
       "      <td>85</td>\n",
       "      <td>85</td>\n",
       "      <td>fourniture de réactifs immunosérologiques pour...</td>\n",
       "      <td>NaN</td>\n",
       "      <td>Fourniture de réactifs immunosérologiques pour...</td>\n",
       "      <td>NaN</td>\n",
       "      <td>33696200 33696500</td>\n",
       "      <td>...</td>\n",
       "      <td>2</td>\n",
       "      <td>Yes</td>\n",
       "      <td>Kit pour recherche d'anticorps anti-IBR sur mé...</td>\n",
       "      <td>IDEXX MONTPELLIER SAS</td>\n",
       "      <td>323 RUE DE LA GALERA</td>\n",
       "      <td>34090</td>\n",
       "      <td>MONTPELLIER</td>\n",
       "      <td>FR</td>\n",
       "      <td>2.0</td>\n",
       "      <td>NaN</td>\n",
       "    </tr>\n",
       "    <tr>\n",
       "      <td>3</td>\n",
       "      <td>15-46335</td>\n",
       "      <td>2015-03-27 00:00:00</td>\n",
       "      <td>2015-04-25</td>\n",
       "      <td>85</td>\n",
       "      <td>85</td>\n",
       "      <td>fourniture de réactifs immunosérologiques pour...</td>\n",
       "      <td>NaN</td>\n",
       "      <td>Fourniture de réactifs immunosérologiques pour...</td>\n",
       "      <td>NaN</td>\n",
       "      <td>33696200 33696500</td>\n",
       "      <td>...</td>\n",
       "      <td>3</td>\n",
       "      <td>Yes</td>\n",
       "      <td>Kit pour recherche d'anticorps anti-IBR sur sé...</td>\n",
       "      <td>IDEXX MONTPELLIER SAS</td>\n",
       "      <td>323 RUE DE LA GALERA</td>\n",
       "      <td>34090</td>\n",
       "      <td>MONTPELLIER</td>\n",
       "      <td>FR</td>\n",
       "      <td>2.0</td>\n",
       "      <td>NaN</td>\n",
       "    </tr>\n",
       "    <tr>\n",
       "      <td>4</td>\n",
       "      <td>15-46335</td>\n",
       "      <td>2015-03-27 00:00:00</td>\n",
       "      <td>2015-04-25</td>\n",
       "      <td>85</td>\n",
       "      <td>85</td>\n",
       "      <td>fourniture de réactifs immunosérologiques pour...</td>\n",
       "      <td>NaN</td>\n",
       "      <td>Fourniture de réactifs immunosérologiques pour...</td>\n",
       "      <td>NaN</td>\n",
       "      <td>33696200 33696500</td>\n",
       "      <td>...</td>\n",
       "      <td>4</td>\n",
       "      <td>Yes</td>\n",
       "      <td>Kit pour recherche d'anticorps gE contre l'IBR...</td>\n",
       "      <td>ID-VET</td>\n",
       "      <td>310 rue Louis Pasteur</td>\n",
       "      <td>34790</td>\n",
       "      <td>Grabels</td>\n",
       "      <td>FR</td>\n",
       "      <td>2.0</td>\n",
       "      <td>NaN</td>\n",
       "    </tr>\n",
       "  </tbody>\n",
       "</table>\n",
       "<p>5 rows × 28 columns</p>\n",
       "</div>"
      ],
      "text/plain": [
       "      CallID     Publication_date End_of_call_date Departments_of_publication  \\\n",
       "0  16-119770  2016-08-11 00:00:00       2016-09-20                         13   \n",
       "1   15-46335  2015-03-27 00:00:00       2015-04-25                         85   \n",
       "2   15-46335  2015-03-27 00:00:00       2015-04-25                         85   \n",
       "3   15-46335  2015-03-27 00:00:00       2015-04-25                         85   \n",
       "4   15-46335  2015-03-27 00:00:00       2015-04-25                         85   \n",
       "\n",
       "  Departments_of_provision                                       Call_summary  \\\n",
       "0                      NaN  mission de maitrise d'oeuvre relative aux trav...   \n",
       "1                       85  fourniture de réactifs immunosérologiques pour...   \n",
       "2                       85  fourniture de réactifs immunosérologiques pour...   \n",
       "3                       85  fourniture de réactifs immunosérologiques pour...   \n",
       "4                       85  fourniture de réactifs immunosérologiques pour...   \n",
       "\n",
       "                                          Call_title  \\\n",
       "0  MISSION DE MAITRISE D'OEUVRE RELATIVE AUX TRAV...   \n",
       "1                                                NaN   \n",
       "2                                                NaN   \n",
       "3                                                NaN   \n",
       "4                                                NaN   \n",
       "\n",
       "                           Complete_call_description  Total_amount  \\\n",
       "0  MISSION DE MAITRISE D'OEUVRE RELATIVE AUX TRAV...           NaN   \n",
       "1  Fourniture de réactifs immunosérologiques pour...           NaN   \n",
       "2  Fourniture de réactifs immunosérologiques pour...           NaN   \n",
       "3  Fourniture de réactifs immunosérologiques pour...           NaN   \n",
       "4  Fourniture de réactifs immunosérologiques pour...           NaN   \n",
       "\n",
       "         CPV_classes  ...   ID awarded  \\\n",
       "0           71000000  ...  NaN     Yes   \n",
       "1  33696200 33696500  ...    1     Yes   \n",
       "2  33696200 33696500  ...    2     Yes   \n",
       "3  33696200 33696500  ...    3     Yes   \n",
       "4  33696200 33696500  ...    4     Yes   \n",
       "\n",
       "                                         description         incumbent_name  \\\n",
       "0                                                NaN             AI PROJECT   \n",
       "1  Kit pour recherche d'anticorps anti-IBR sur sé...                 ID-VET   \n",
       "2  Kit pour recherche d'anticorps anti-IBR sur mé...  IDEXX MONTPELLIER SAS   \n",
       "3  Kit pour recherche d'anticorps anti-IBR sur sé...  IDEXX MONTPELLIER SAS   \n",
       "4  Kit pour recherche d'anticorps gE contre l'IBR...                 ID-VET   \n",
       "\n",
       "            incumbent_address incumbent_zipcode incumbent_city  \\\n",
       "0  11, avenue de la Capelette             13010      Marseille   \n",
       "1       310 rue Louis Pasteur             34790        Grabels   \n",
       "2        323 RUE DE LA GALERA             34090    MONTPELLIER   \n",
       "3        323 RUE DE LA GALERA             34090    MONTPELLIER   \n",
       "4       310 rue Louis Pasteur             34790        Grabels   \n",
       "\n",
       "   incumbent_country number_of_received_bids   amount  \n",
       "0                 FR                    13.0  83200.0  \n",
       "1                 FR                     2.0      NaN  \n",
       "2                 FR                     2.0      NaN  \n",
       "3                 FR                     2.0      NaN  \n",
       "4                 FR                     2.0      NaN  \n",
       "\n",
       "[5 rows x 28 columns]"
      ]
     },
     "execution_count": 81,
     "metadata": {},
     "output_type": "execute_result"
    }
   ],
   "source": [
    "award = pd.read_csv('data/award_notices_RAMP.csv.zip', compression='zip')\n",
    "award.head(5)"
   ]
  },
  {
   "cell_type": "code",
   "execution_count": 82,
   "metadata": {},
   "outputs": [],
   "source": [
    "# list of numerical columns\n",
    "num_cols = ['Legal_ID', 'Headcount']"
   ]
  },
  {
   "cell_type": "code",
   "execution_count": 83,
   "metadata": {},
   "outputs": [],
   "source": [
    "from sklearn.impute import SimpleImputer\n",
    "from sklearn.pipeline import Pipeline\n",
    "\n",
    "numeric_transformer = Pipeline(steps=[\n",
    "    ('impute', SimpleImputer(strategy='mean'))\n",
    "])"
   ]
  },
  {
   "cell_type": "code",
   "execution_count": 84,
   "metadata": {},
   "outputs": [],
   "source": [
    "from sklearn.preprocessing import FunctionTransformer\n",
    "\n",
    "def process_date(X):\n",
    "    date = pd.to_datetime(X['Fiscal_year_end_date'], format='%Y-%m-%d')\n",
    "    return np.c_[date.dt.year, date.dt.month, date.dt.day]\n",
    "\n",
    "date_transformer = FunctionTransformer(process_date, validate=False)"
   ]
  },
  {
   "cell_type": "code",
   "execution_count": 85,
   "metadata": {},
   "outputs": [],
   "source": [
    "from sklearn.preprocessing import FunctionTransformer\n",
    "\n",
    "def process_date_ordinal(X):\n",
    "    date = pd.to_datetime(X['Fiscal_year_end_date'], format='%Y-%m-%d')\n",
    "    ord_date = date.apply(lambda x: x.toordinal()).values[:,np.newaxis]\n",
    "    return ord_date - pd.Timestamp('2013-01-01').toordinal()\n",
    "\n",
    "date_ord_transformer = FunctionTransformer(process_date_ordinal, validate=False)"
   ]
  },
  {
   "cell_type": "code",
   "execution_count": 86,
   "metadata": {},
   "outputs": [],
   "source": [
    "def process_numeric_APE(X):\n",
    "    APE_prefix = X['Activity_code (APE)'].str[:2]\n",
    "    APE_root = X['Activity_code (APE)'].str[2]\n",
    "    val_prefix = pd.to_numeric(APE_prefix, errors='coerce').values[:, np.newaxis]\n",
    "    val_root = pd.to_numeric(APE_root, errors='coerce').values[:, np.newaxis]\n",
    "    return np.concatenate((val_prefix,val_root),axis=1)\n",
    "\n",
    "APE_n_transformer = FunctionTransformer(process_numeric_APE, validate=False); "
   ]
  },
  {
   "cell_type": "code",
   "execution_count": 87,
   "metadata": {},
   "outputs": [],
   "source": [
    "def process_string_APE(X):\n",
    "    return X['Activity_code (APE)'].str[3:].values[:, np.newaxis]\n",
    "\n",
    "APE_s_transformer = FunctionTransformer(process_string_APE, validate=False);"
   ]
  },
  {
   "cell_type": "code",
   "execution_count": 88,
   "metadata": {},
   "outputs": [],
   "source": [
    "def zipcodes(X):\n",
    "    zipcode_nums = pd.to_numeric(X['Zipcode'], downcast='integer', errors='coerce')\n",
    "    val_prefix = zipcode_nums.values[:, np.newaxis]/1000\n",
    "    val_suffix = zipcode_nums.values[:, np.newaxis]%1000\n",
    "    return np.concatenate((val_prefix,val_suffix),axis=1)\n",
    "\n",
    "zipcode_transformer = FunctionTransformer(zipcodes, validate=False)"
   ]
  },
  {
   "cell_type": "code",
   "execution_count": 192,
   "metadata": {},
   "outputs": [],
   "source": [
    "from sklearn.compose import ColumnTransformer\n",
    "from sklearn.preprocessing import OrdinalEncoder\n",
    "from sklearn.pipeline import make_pipeline\n",
    "\n",
    "zipcode_col = ['Zipcode']\n",
    "date_cols = ['Fiscal_year_end_date']\n",
    "drop_cols = ['Name', 'Address', 'City','Fiscal_year_duration_in_months','Year']\n",
    "APE_col = ['Activity_code (APE)']\n",
    "num_cols = ['Legal_ID', 'Headcount']\n",
    "\n",
    "\n",
    "preprocessor = ColumnTransformer(\n",
    "    transformers=[\n",
    "        ('zipcode', make_pipeline(zipcode_transformer, SimpleImputer(strategy='constant', fill_value=0)), zipcode_col),\n",
    "        ('num', numeric_transformer, num_cols),\n",
    "        ('date', make_pipeline(date_ord_transformer, SimpleImputer(strategy='mean')), date_cols),\n",
    "        ('APE_n', make_pipeline(APE_n_transformer, SimpleImputer(strategy='constant', fill_value=0)), APE_col),\n",
    "        #('APE_s', make_pipeline(APE_s_transformer, SimpleImputer(strategy='constant', fill_value='0'), OrdinalEncoder()), APE_col),\n",
    "        ('drop cols', 'drop', drop_cols),\n",
    "    ])\n"
   ]
  },
  {
   "cell_type": "code",
   "execution_count": 193,
   "metadata": {},
   "outputs": [],
   "source": [
    "# make sure it works\n",
    "a = preprocessor.fit_transform(X_df)"
   ]
  },
  {
   "cell_type": "code",
   "execution_count": 194,
   "metadata": {},
   "outputs": [
    {
     "data": {
      "text/plain": [
       "(1495948, 7)"
      ]
     },
     "execution_count": 194,
     "metadata": {},
     "output_type": "execute_result"
    }
   ],
   "source": [
    "a.shape"
   ]
  },
  {
   "cell_type": "code",
   "execution_count": 195,
   "metadata": {},
   "outputs": [
    {
     "data": {
      "text/plain": [
       "array([[0.00000000e+00, 0.00000000e+00, 5.82296000e+05, ...,\n",
       "        1.46000000e+03, 0.00000000e+00, 0.00000000e+00],\n",
       "       [0.00000000e+00, 0.00000000e+00, 5.82981000e+05, ...,\n",
       "        1.46000000e+03, 0.00000000e+00, 0.00000000e+00],\n",
       "       [9.88000000e+01, 8.00000000e+02, 5.88541000e+05, ...,\n",
       "        1.46000000e+03, 0.00000000e+00, 0.00000000e+00],\n",
       "       ...,\n",
       "       [0.00000000e+00, 0.00000000e+00, 9.95750288e+08, ...,\n",
       "        3.95000000e+02, 2.80000000e+01, 2.00000000e+00],\n",
       "       [0.00000000e+00, 0.00000000e+00, 9.95750288e+08, ...,\n",
       "        7.29000000e+02, 2.80000000e+01, 2.00000000e+00],\n",
       "       [0.00000000e+00, 0.00000000e+00, 9.95750288e+08, ...,\n",
       "        1.09400000e+03, 2.80000000e+01, 2.00000000e+00]])"
      ]
     },
     "execution_count": 195,
     "metadata": {},
     "output_type": "execute_result"
    }
   ],
   "source": [
    "a"
   ]
  },
  {
   "cell_type": "code",
   "execution_count": 196,
   "metadata": {},
   "outputs": [],
   "source": [
    "from sklearn.ensemble import RandomForestRegressor\n",
    "\n",
    "regressor = RandomForestRegressor(n_estimators=10)"
   ]
  },
  {
   "cell_type": "code",
   "execution_count": 206,
   "metadata": {},
   "outputs": [],
   "source": [
    "from sklearn.metrics import make_scorer\n",
    "\n",
    "def loss(y_true, y_pred):\n",
    "    \n",
    "    if isinstance(y_true, pd.Series):\n",
    "        y_true = y_true.values\n",
    "\n",
    "    true = np.maximum(5., np.log10(np.maximum(1., y_true)))\n",
    "    pred = np.maximum(5., np.log10(np.maximum(1., y_pred)))\n",
    "    \n",
    "    loss = np.mean(np.abs(true - pred))\n",
    "    \n",
    "    return loss\n",
    "    \n",
    "fan_loss = make_scorer(loss, greater_is_better=False)"
   ]
  },
  {
   "cell_type": "code",
   "execution_count": 207,
   "metadata": {},
   "outputs": [
    {
     "name": "stdout",
     "output_type": "stream",
     "text": [
      "mean: 4.248152e-01 (+/- 1.176472e-03)\n"
     ]
    }
   ],
   "source": [
    "from sklearn.model_selection import cross_val_score\n",
    "from sklearn.model_selection import GroupShuffleSplit\n",
    "\n",
    "clf = Pipeline(steps=[\n",
    "    ('preprocessing', preprocessor_comp),\n",
    "    ('classifier', regressor)])\n",
    "\n",
    "cv = GroupShuffleSplit(n_splits=8, test_size=0.25)\n",
    "\n",
    "scores_Xdf = -cross_val_score(clf, X_df, y_array, cv=cv, scoring=fan_loss, groups=X_df['Legal_ID'], n_jobs=3)\n",
    "\n",
    "print(\"mean: %e (+/- %e)\" % (scores_Xdf.mean(), scores_Xdf.std()))"
   ]
  },
  {
   "cell_type": "markdown",
   "metadata": {},
   "source": [
    "## Naive merge"
   ]
  },
  {
   "cell_type": "code",
   "execution_count": 199,
   "metadata": {},
   "outputs": [],
   "source": [
    "award['Name_processed'] = award['incumbent_name'].str.lower()\n",
    "award['Name_processed'] = award['Name_processed'].str.replace('[^\\w]','')"
   ]
  },
  {
   "cell_type": "code",
   "execution_count": 200,
   "metadata": {},
   "outputs": [
    {
     "data": {
      "text/html": [
       "<div>\n",
       "<style scoped>\n",
       "    .dataframe tbody tr th:only-of-type {\n",
       "        vertical-align: middle;\n",
       "    }\n",
       "\n",
       "    .dataframe tbody tr th {\n",
       "        vertical-align: top;\n",
       "    }\n",
       "\n",
       "    .dataframe thead th {\n",
       "        text-align: right;\n",
       "    }\n",
       "</style>\n",
       "<table border=\"1\" class=\"dataframe\">\n",
       "  <thead>\n",
       "    <tr style=\"text-align: right;\">\n",
       "      <th></th>\n",
       "      <th>count</th>\n",
       "      <th>sum</th>\n",
       "    </tr>\n",
       "    <tr>\n",
       "      <th>Name_processed</th>\n",
       "      <th></th>\n",
       "      <th></th>\n",
       "    </tr>\n",
       "  </thead>\n",
       "  <tbody>\n",
       "    <tr>\n",
       "      <td></td>\n",
       "      <td>1</td>\n",
       "      <td>55479.36</td>\n",
       "    </tr>\n",
       "    <tr>\n",
       "      <td>0</td>\n",
       "      <td>1</td>\n",
       "      <td>0.00</td>\n",
       "    </tr>\n",
       "    <tr>\n",
       "      <td>00000</td>\n",
       "      <td>0</td>\n",
       "      <td>0.00</td>\n",
       "    </tr>\n",
       "  </tbody>\n",
       "</table>\n",
       "</div>"
      ],
      "text/plain": [
       "                count       sum\n",
       "Name_processed                 \n",
       "                    1  55479.36\n",
       "0                   1      0.00\n",
       "00000               0      0.00"
      ]
     },
     "execution_count": 200,
     "metadata": {},
     "output_type": "execute_result"
    }
   ],
   "source": [
    "award_features = award.groupby(['Name_processed'])['amount'].agg(['count','sum'])\n",
    "award_features.head(3)"
   ]
  },
  {
   "cell_type": "code",
   "execution_count": 201,
   "metadata": {},
   "outputs": [],
   "source": [
    "def merge_naive(X):\n",
    "    X['Name'] = X['Name'].str.lower()     \n",
    "    X['Name'] = X['Name'].str.replace('[^\\w]','')\n",
    "    df = pd.merge(X, award_features, left_on='Name', right_on='Name_processed', how='left')\n",
    "    return df[['count','sum']]\n",
    "merge_transformer = FunctionTransformer(merge_naive, validate=False)"
   ]
  },
  {
   "cell_type": "code",
   "execution_count": 202,
   "metadata": {},
   "outputs": [],
   "source": [
    "zipcode_col = ['Zipcode']\n",
    "date_cols = ['Fiscal_year_end_date']\n",
    "drop_cols = ['Name', 'Address', 'City','Fiscal_year_duration_in_months','Year']\n",
    "APE_col = ['Activity_code (APE)']\n",
    "merge_col = ['Name']\n",
    "\n",
    "preprocessor = ColumnTransformer(\n",
    "    transformers=[\n",
    "        ('zipcode', make_pipeline(zipcode_transformer, SimpleImputer(strategy='constant', fill_value=0)), zipcode_col),\n",
    "        ('num', numeric_transformer, num_cols),\n",
    "        ('date', make_pipeline(date_ord_transformer, SimpleImputer(strategy='mean')), date_cols),\n",
    "        ('APE_n', make_pipeline(APE_n_transformer, SimpleImputer(strategy='constant', fill_value=0)), APE_col),\n",
    "        ('merge', make_pipeline(merge_transformer, SimpleImputer(strategy='median')), merge_col),\n",
    "        ('drop cols', 'drop', drop_cols),\n",
    "    ])"
   ]
  },
  {
   "cell_type": "code",
   "execution_count": 203,
   "metadata": {},
   "outputs": [
    {
     "data": {
      "text/plain": [
       "array([[0.00000000e+00, 0.00000000e+00, 5.82296000e+05, ...,\n",
       "        0.00000000e+00, 1.00000000e+00, 2.15600900e+05],\n",
       "       [0.00000000e+00, 0.00000000e+00, 5.82981000e+05, ...,\n",
       "        0.00000000e+00, 1.00000000e+00, 2.15600900e+05],\n",
       "       [9.88000000e+01, 8.00000000e+02, 5.88541000e+05, ...,\n",
       "        0.00000000e+00, 1.00000000e+00, 2.15600900e+05],\n",
       "       ...,\n",
       "       [0.00000000e+00, 0.00000000e+00, 9.95750288e+08, ...,\n",
       "        2.00000000e+00, 9.00000000e+00, 3.19457147e+06],\n",
       "       [0.00000000e+00, 0.00000000e+00, 9.95750288e+08, ...,\n",
       "        2.00000000e+00, 9.00000000e+00, 3.19457147e+06],\n",
       "       [0.00000000e+00, 0.00000000e+00, 9.95750288e+08, ...,\n",
       "        2.00000000e+00, 9.00000000e+00, 3.19457147e+06]])"
      ]
     },
     "execution_count": 203,
     "metadata": {},
     "output_type": "execute_result"
    }
   ],
   "source": [
    "# check it works\n",
    "preprocessor.fit_transform(X_df)"
   ]
  },
  {
   "cell_type": "code",
   "execution_count": 204,
   "metadata": {},
   "outputs": [],
   "source": [
    "regressor = RandomForestRegressor(n_estimators=10)"
   ]
  },
  {
   "cell_type": "code",
   "execution_count": 205,
   "metadata": {},
   "outputs": [
    {
     "name": "stdout",
     "output_type": "stream",
     "text": [
      "mean: 4.191072e-01 (+/- 1.033031e-03)\n"
     ]
    }
   ],
   "source": [
    "clf = Pipeline(steps=[\n",
    "    ('preprocessing', preprocessor_merge),\n",
    "    ('classifier', regressor)])\n",
    "\n",
    "cv = GroupShuffleSplit(n_splits=8, test_size=0.25)\n",
    "\n",
    "scores_merge = -cross_val_score(clf, X_df, y_array, cv=cv, scoring=fan_loss, groups=X_df['Legal_ID'],\n",
    "                               n_jobs=3)\n",
    "\n",
    "print(\"mean: %e (+/- %e)\" % (scores_merge.mean(), scores_merge.std()))"
   ]
  },
  {
   "cell_type": "code",
   "execution_count": null,
   "metadata": {},
   "outputs": [
    {
     "name": "stdout",
     "output_type": "stream",
     "text": [
      "\u001b[38;5;178m\u001b[1mTesting Prediction of annual revenue using FAN\u001b[0m\n",
      "\u001b[38;5;178m\u001b[1mReading train and test files from ./data ...\u001b[0m\n",
      "\u001b[38;5;178m\u001b[1mReading cv ...\u001b[0m\n",
      "\u001b[38;5;178m\u001b[1mTraining submissions/my_model_1 ...\u001b[0m\n",
      "\u001b[38;5;178m\u001b[1mCV fold 0\u001b[0m\n",
      "\t\u001b[38;5;178m\u001b[1mscore  fan error        time\u001b[0m\n",
      "\t\u001b[38;5;10m\u001b[1mtrain\u001b[0m       \u001b[38;5;10m\u001b[1m0.12\u001b[0m  \u001b[38;5;150m154.507412\u001b[0m\n",
      "\t\u001b[38;5;12m\u001b[1mvalid\u001b[0m       \u001b[38;5;12m\u001b[1m0.42\u001b[0m   \u001b[38;5;105m23.254556\u001b[0m\n",
      "\t\u001b[38;5;1m\u001b[1mtest\u001b[0m        \u001b[38;5;1m\u001b[1m0.42\u001b[0m    \u001b[38;5;218m7.499385\u001b[0m\n",
      "\u001b[38;5;178m\u001b[1mCV fold 1\u001b[0m\n",
      "\t\u001b[38;5;178m\u001b[1mscore  fan error        time\u001b[0m\n",
      "\t\u001b[38;5;10m\u001b[1mtrain\u001b[0m       \u001b[38;5;10m\u001b[1m0.11\u001b[0m  \u001b[38;5;150m142.870552\u001b[0m\n",
      "\t\u001b[38;5;12m\u001b[1mvalid\u001b[0m       \u001b[38;5;12m\u001b[1m0.42\u001b[0m   \u001b[38;5;105m25.926292\u001b[0m\n",
      "\t\u001b[38;5;1m\u001b[1mtest\u001b[0m        \u001b[38;5;1m\u001b[1m0.42\u001b[0m    \u001b[38;5;218m7.699212\u001b[0m\n",
      "\u001b[38;5;178m\u001b[1mCV fold 2\u001b[0m\n",
      "\t\u001b[38;5;178m\u001b[1mscore  fan error        time\u001b[0m\n",
      "\t\u001b[38;5;10m\u001b[1mtrain\u001b[0m       \u001b[38;5;10m\u001b[1m0.13\u001b[0m  \u001b[38;5;150m129.905554\u001b[0m\n",
      "\t\u001b[38;5;12m\u001b[1mvalid\u001b[0m       \u001b[38;5;12m\u001b[1m0.42\u001b[0m   \u001b[38;5;105m18.666847\u001b[0m\n",
      "\t\u001b[38;5;1m\u001b[1mtest\u001b[0m        \u001b[38;5;1m\u001b[1m0.42\u001b[0m    \u001b[38;5;218m6.297429\u001b[0m\n",
      "\u001b[38;5;178m\u001b[1mCV fold 3\u001b[0m\n",
      "\t\u001b[38;5;178m\u001b[1mscore  fan error        time\u001b[0m\n",
      "\t\u001b[38;5;10m\u001b[1mtrain\u001b[0m       \u001b[38;5;10m\u001b[1m0.12\u001b[0m  \u001b[38;5;150m136.055322\u001b[0m\n",
      "\t\u001b[38;5;12m\u001b[1mvalid\u001b[0m       \u001b[38;5;12m\u001b[1m0.42\u001b[0m   \u001b[38;5;105m21.226836\u001b[0m\n",
      "\t\u001b[38;5;1m\u001b[1mtest\u001b[0m        \u001b[38;5;1m\u001b[1m0.42\u001b[0m    \u001b[38;5;218m8.588347\u001b[0m\n",
      "\u001b[38;5;178m\u001b[1mCV fold 4\u001b[0m\n"
     ]
    }
   ],
   "source": [
    "!ramp_test_submission --submission my_model_1"
   ]
  },
  {
   "cell_type": "code",
   "execution_count": null,
   "metadata": {},
   "outputs": [],
   "source": []
  },
  {
   "cell_type": "code",
   "execution_count": null,
   "metadata": {},
   "outputs": [],
   "source": []
  },
  {
   "cell_type": "code",
   "execution_count": null,
   "metadata": {},
   "outputs": [],
   "source": []
  },
  {
   "cell_type": "code",
   "execution_count": null,
   "metadata": {},
   "outputs": [],
   "source": []
  }
 ],
 "metadata": {
  "kernelspec": {
   "display_name": "Python 3",
   "language": "python",
   "name": "python3"
  },
  "language_info": {
   "codemirror_mode": {
    "name": "ipython",
    "version": 3
   },
   "file_extension": ".py",
   "mimetype": "text/x-python",
   "name": "python",
   "nbconvert_exporter": "python",
   "pygments_lexer": "ipython3",
   "version": "3.7.4"
  }
 },
 "nbformat": 4,
 "nbformat_minor": 2
}
